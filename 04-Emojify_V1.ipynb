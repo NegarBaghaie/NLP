{
  "cells": [
    {
      "cell_type": "markdown",
      "metadata": {},
      "source": [
        "# Emojify-V1\n",
        "\n",
        "This task combines language and emotion by associating words or phrases with emojis.\n",
        "\n",
        "The model we train is sequentail in this version, not RNN."
      ]
    },
    {
      "cell_type": "code",
      "execution_count": 1,
      "metadata": {
        "colab": {
          "base_uri": "https://localhost:8080/"
        },
        "id": "t3Zs27gUhOfH",
        "outputId": "7c3016b6-0227-434d-fdcf-acd390750d54"
      },
      "outputs": [
        {
          "name": "stdout",
          "output_type": "stream",
          "text": [
            "--2024-03-31 20:54:00--  http://nlp.stanford.edu/data/glove.6B.zip\n",
            "Resolving nlp.stanford.edu (nlp.stanford.edu)... 171.64.67.140\n",
            "Connecting to nlp.stanford.edu (nlp.stanford.edu)|171.64.67.140|:80... connected.\n",
            "HTTP request sent, awaiting response... 302 Found\n",
            "Location: https://nlp.stanford.edu/data/glove.6B.zip [following]\n",
            "--2024-03-31 20:54:00--  https://nlp.stanford.edu/data/glove.6B.zip\n",
            "Connecting to nlp.stanford.edu (nlp.stanford.edu)|171.64.67.140|:443... connected.\n",
            "HTTP request sent, awaiting response... 301 Moved Permanently\n",
            "Location: https://downloads.cs.stanford.edu/nlp/data/glove.6B.zip [following]\n",
            "--2024-03-31 20:54:00--  https://downloads.cs.stanford.edu/nlp/data/glove.6B.zip\n",
            "Resolving downloads.cs.stanford.edu (downloads.cs.stanford.edu)... 171.64.64.22\n",
            "Connecting to downloads.cs.stanford.edu (downloads.cs.stanford.edu)|171.64.64.22|:443... connected.\n",
            "HTTP request sent, awaiting response... 200 OK\n",
            "Length: 862182613 (822M) [application/zip]\n",
            "Saving to: ‘glove.6B.zip’\n",
            "\n",
            "glove.6B.zip        100%[===================>] 822.24M  4.68MB/s    in 3m 16s  \n",
            "\n",
            "2024-03-31 20:57:17 (4.19 MB/s) - ‘glove.6B.zip’ saved [862182613/862182613]\n",
            "\n"
          ]
        }
      ],
      "source": [
        "!wget http://nlp.stanford.edu/data/glove.6B.zip"
      ]
    },
    {
      "cell_type": "code",
      "execution_count": 2,
      "metadata": {
        "colab": {
          "base_uri": "https://localhost:8080/"
        },
        "id": "9AwL7_WpinHV",
        "outputId": "94f20608-3d84-4af9-8bd9-c1fa311f53fa"
      },
      "outputs": [
        {
          "name": "stdout",
          "output_type": "stream",
          "text": [
            "Archive:  glove.6B.zip\n",
            "  inflating: glove.6B.50d.txt        \n",
            "  inflating: glove.6B.100d.txt       \n",
            "  inflating: glove.6B.200d.txt       \n",
            "  inflating: glove.6B.300d.txt       \n"
          ]
        }
      ],
      "source": [
        "!unzip glove.6B.zip"
      ]
    },
    {
      "cell_type": "code",
      "execution_count": 50,
      "metadata": {
        "id": "XEMrXj-CjAM5"
      },
      "outputs": [],
      "source": [
        "import numpy as np\n",
        "import tensorflow as tf\n",
        "import csv\n",
        "from keras.layers import TextVectorization, Dropout, Dense, Input, Embedding, GlobalAveragePooling1D\n",
        "from keras.models import Sequential"
      ]
    },
    {
      "cell_type": "markdown",
      "metadata": {},
      "source": [
        "## Embeddings\n",
        "\n",
        "This code loads pre-trained word embeddings from a file and organizes them for quick access. It reads each line of the file to extract words and their respective embedding vectors, storing them in a dictionary. Additionally, it creates mappings between words and their indices, as well as indices and words. These mappings facilitate efficient word representation and retrieval in natural language processing tasks."
      ]
    },
    {
      "cell_type": "code",
      "execution_count": 4,
      "metadata": {
        "id": "FASFDQ5RhUkG"
      },
      "outputs": [],
      "source": [
        "EMBD_DIM = 50\n",
        "path = f'glove.6B.{EMBD_DIM}d.txt'\n",
        "\n",
        "def get_embeddings(path):\n",
        "  embeddings = {}\n",
        "  with open(path, 'r') as file:\n",
        "    for line in file:\n",
        "      lst = line.split()\n",
        "      word = lst[0]\n",
        "      embeddings[word] = np.array(lst[1:], dtype='float32')\n",
        "\n",
        "  i = 2\n",
        "  word_to_index = {}\n",
        "  index_to_word = {}\n",
        "\n",
        "  for w in embeddings.keys():\n",
        "    word_to_index[w] = i\n",
        "    index_to_word[i] = w\n",
        "    i += 1\n",
        "\n",
        "  return embeddings, index_to_word, word_to_index\n"
      ]
    },
    {
      "cell_type": "code",
      "execution_count": 5,
      "metadata": {
        "id": "wRoe-mRiiQUD"
      },
      "outputs": [],
      "source": [
        "embeddings, index_to_word, word_to_index = get_embeddings(path)"
      ]
    },
    {
      "cell_type": "code",
      "execution_count": 6,
      "metadata": {
        "colab": {
          "base_uri": "https://localhost:8080/"
        },
        "id": "TxIg4_g2kP-j",
        "outputId": "371644cc-ff2e-4cf9-e39c-979d50a0e332"
      },
      "outputs": [
        {
          "data": {
            "text/plain": [
              "400000"
            ]
          },
          "execution_count": 6,
          "metadata": {},
          "output_type": "execute_result"
        }
      ],
      "source": [
        "len(embeddings)"
      ]
    },
    {
      "cell_type": "code",
      "execution_count": 7,
      "metadata": {
        "colab": {
          "base_uri": "https://localhost:8080/"
        },
        "id": "134dmZMHlNeU",
        "outputId": "ce597688-a338-4ce8-8884-d0a33c0eca74"
      },
      "outputs": [
        {
          "name": "stdout",
          "output_type": "stream",
          "text": [
            "Archive:  emojify.zip\n",
            "   creating: emojify/\n",
            "  inflating: emojify/emojify_data.csv  \n",
            "  inflating: emojify/tes.csv         \n",
            "  inflating: emojify/tess.csv        \n",
            "  inflating: emojify/tesss.csv       \n",
            "  inflating: emojify/test_emoji.csv  \n",
            "  inflating: emojify/train_emoji.csv  \n"
          ]
        }
      ],
      "source": [
        "!unzip emojify.zip"
      ]
    },
    {
      "cell_type": "markdown",
      "metadata": {},
      "source": [
        "## Load Dataset"
      ]
    },
    {
      "cell_type": "code",
      "execution_count": 8,
      "metadata": {
        "id": "w37hnKFqmDdu"
      },
      "outputs": [],
      "source": [
        "def read_data(path):\n",
        "  phrases = []\n",
        "  labels = []\n",
        "  with open(path, 'r') as file:\n",
        "    reader = csv.reader(file)\n",
        "    for line in reader:\n",
        "      phrases.append(line[0])\n",
        "      labels.append(int(line[1]))\n",
        "\n",
        "  return np.array(phrases), np.array(labels)\n"
      ]
    },
    {
      "cell_type": "code",
      "execution_count": 9,
      "metadata": {
        "id": "-qF0pUr5mrrD"
      },
      "outputs": [],
      "source": [
        "train_path = '/content/emojify/train_emoji.csv'\n",
        "test_path = '/content/emojify/tesss.csv'\n",
        "\n",
        "X_train, y_train = read_data(train_path)\n",
        "X_test, y_test = read_data(test_path)"
      ]
    },
    {
      "cell_type": "code",
      "execution_count": 10,
      "metadata": {
        "colab": {
          "base_uri": "https://localhost:8080/"
        },
        "id": "QJJE5AJ4m-c9",
        "outputId": "8ff1286d-225e-4b01-aeb8-2d54d41f8d25"
      },
      "outputs": [
        {
          "name": "stdout",
          "output_type": "stream",
          "text": [
            "(132,)\n",
            "(132,)\n"
          ]
        }
      ],
      "source": [
        "print(X_train.shape)\n",
        "print(y_train.shape)"
      ]
    },
    {
      "cell_type": "code",
      "execution_count": 11,
      "metadata": {
        "colab": {
          "base_uri": "https://localhost:8080/"
        },
        "id": "e1rdnXhenD9D",
        "outputId": "26b833b5-9748-4a4d-dcdf-08bc3f94c6d6"
      },
      "outputs": [
        {
          "name": "stdout",
          "output_type": "stream",
          "text": [
            "(56,)\n",
            "(56,)\n"
          ]
        }
      ],
      "source": [
        "print(X_test.shape)\n",
        "print(y_test.shape)"
      ]
    },
    {
      "cell_type": "code",
      "execution_count": 12,
      "metadata": {
        "colab": {
          "base_uri": "https://localhost:8080/"
        },
        "id": "ruQproE2naSW",
        "outputId": "d236d438-4dd7-4641-8a18-d1e956fe30c1"
      },
      "outputs": [
        {
          "name": "stdout",
          "output_type": "stream",
          "text": [
            "Collecting emoji\n",
            "  Downloading emoji-2.11.0-py2.py3-none-any.whl (433 kB)\n",
            "\u001b[?25l     \u001b[90m━━━━━━━━━━━━━━━━━━━━━━━━━━━━━━━━━━━━━━━━\u001b[0m \u001b[32m0.0/433.8 kB\u001b[0m \u001b[31m?\u001b[0m eta \u001b[36m-:--:--\u001b[0m\r\u001b[2K     \u001b[91m━━━━━━━━━━━━━━\u001b[0m\u001b[90m╺\u001b[0m\u001b[90m━━━━━━━━━━━━━━━━━━━━━━━━━\u001b[0m \u001b[32m153.6/433.8 kB\u001b[0m \u001b[31m4.4 MB/s\u001b[0m eta \u001b[36m0:00:01\u001b[0m\r\u001b[2K     \u001b[91m━━━━━━━━━━━━━━━━━━━━━━━━━━━━━━━━━━━━━━━\u001b[0m\u001b[91m╸\u001b[0m \u001b[32m430.1/433.8 kB\u001b[0m \u001b[31m6.8 MB/s\u001b[0m eta \u001b[36m0:00:01\u001b[0m\r\u001b[2K     \u001b[90m━━━━━━━━━━━━━━━━━━━━━━━━━━━━━━━━━━━━━━━━\u001b[0m \u001b[32m433.8/433.8 kB\u001b[0m \u001b[31m5.9 MB/s\u001b[0m eta \u001b[36m0:00:00\u001b[0m\n",
            "\u001b[?25hInstalling collected packages: emoji\n",
            "Successfully installed emoji-2.11.0\n"
          ]
        }
      ],
      "source": [
        "!pip install emoji"
      ]
    },
    {
      "cell_type": "code",
      "execution_count": 13,
      "metadata": {
        "id": "Xe2e3WltnqL1"
      },
      "outputs": [],
      "source": [
        "import emoji\n",
        "emoji_dictionary = {0: \":grey_heart:\",\n",
        "                    1: \":baseball:\",\n",
        "                    2: \":smiling_face_with_smiling_eyes:\",\n",
        "                    3: \":disappointed_face:\",\n",
        "                    4: \":fork_and_knife:\"}"
      ]
    },
    {
      "cell_type": "markdown",
      "metadata": {},
      "source": [
        "## Visualization"
      ]
    },
    {
      "cell_type": "code",
      "execution_count": 14,
      "metadata": {
        "colab": {
          "base_uri": "https://localhost:8080/"
        },
        "id": "xJRZ3JyynFfj",
        "outputId": "1f37ff3b-08ee-4437-de5b-569b3f34fc7e"
      },
      "outputs": [
        {
          "name": "stdout",
          "output_type": "stream",
          "text": [
            "never talk to me again 😞\n",
            "I am proud of your achievements 😊\n",
            "It is the worst day in my life 😞\n",
            "Miss you so much 🩶\n",
            "food is life 🍴\n",
            "I love you mum 🩶\n",
            "Stop saying bullshit 😞\n",
            "congratulations on your acceptance 😊\n",
            "The assignment is too long  😞\n",
            "I want to go play ⚾\n"
          ]
        }
      ],
      "source": [
        "for i in range(10):\n",
        "  print(X_train[i],emoji.emojize(emoji_dictionary[y_train[i]]))"
      ]
    },
    {
      "cell_type": "code",
      "execution_count": 15,
      "metadata": {
        "id": "XYbDFdb6nYnj"
      },
      "outputs": [],
      "source": [
        "MAX_TOKEN = len(embeddings) + 2\n",
        "embedding_matrix = np.zeros((MAX_TOKEN, EMBD_DIM))\n",
        "embedding_matrix[2:] = np.array(list(embeddings.values()))"
      ]
    },
    {
      "cell_type": "code",
      "execution_count": 16,
      "metadata": {
        "colab": {
          "base_uri": "https://localhost:8080/"
        },
        "id": "53vuz7qxooaP",
        "outputId": "c7c15a5c-8f32-4b00-fe17-2e03b5fe6c3d"
      },
      "outputs": [
        {
          "data": {
            "text/plain": [
              "array([ True,  True,  True,  True,  True,  True,  True,  True,  True,\n",
              "        True,  True,  True,  True,  True,  True,  True,  True,  True,\n",
              "        True,  True,  True,  True,  True,  True,  True,  True,  True,\n",
              "        True,  True,  True,  True,  True,  True,  True,  True,  True,\n",
              "        True,  True,  True,  True,  True,  True,  True,  True,  True,\n",
              "        True,  True,  True,  True,  True])"
            ]
          },
          "execution_count": 16,
          "metadata": {},
          "output_type": "execute_result"
        }
      ],
      "source": [
        "embedding_matrix[10] == embeddings[index_to_word[10]]"
      ]
    },
    {
      "cell_type": "code",
      "execution_count": 17,
      "metadata": {
        "colab": {
          "base_uri": "https://localhost:8080/"
        },
        "id": "zD5NT5QhqdDN",
        "outputId": "7a2ed40b-3bfa-4d31-bed0-bef5cc258d79"
      },
      "outputs": [
        {
          "data": {
            "text/plain": [
              "10"
            ]
          },
          "execution_count": 17,
          "metadata": {},
          "output_type": "execute_result"
        }
      ],
      "source": [
        "MAX_LEN = max([len(x.split()) for x in X_train])\n",
        "MAX_LEN"
      ]
    },
    {
      "cell_type": "markdown",
      "metadata": {},
      "source": [
        "## Vectorize Layer\n",
        "This code initializes a `TextVectorization` layer in TensorFlow, which helps prepare text data for neural network training. It sets parameters like `max_tokens` and `output_sequence_length` to control vocabulary size and sequence length. By providing a predefined vocabulary list, it ensures consistency with earlier word-to-index mappings. Overall, this layer simplifies text preprocessing, making it ready for use in neural network models.\n"
      ]
    },
    {
      "cell_type": "code",
      "execution_count": 18,
      "metadata": {
        "id": "CQNH8U44pJAN"
      },
      "outputs": [],
      "source": [
        "vectorize_layer = TextVectorization(max_tokens=MAX_TOKEN, output_sequence_length = MAX_LEN,\n",
        "                                    vocabulary=list(word_to_index.keys()))"
      ]
    },
    {
      "cell_type": "code",
      "execution_count": 19,
      "metadata": {
        "colab": {
          "base_uri": "https://localhost:8080/"
        },
        "id": "aYIVDg5griTe",
        "outputId": "8fab76b9-4a44-46f7-e35b-e83d34b5d588"
      },
      "outputs": [
        {
          "data": {
            "text/plain": [
              "<tf.Tensor: shape=(10,), dtype=int64, numpy=array([ 43, 837,  83,   0,   0,   0,   0,   0,   0,   0])>"
            ]
          },
          "execution_count": 19,
          "metadata": {},
          "output_type": "execute_result"
        }
      ],
      "source": [
        "vectorize_layer('I love you')"
      ]
    },
    {
      "cell_type": "code",
      "execution_count": 20,
      "metadata": {
        "id": "2u88TWcU9DM_"
      },
      "outputs": [],
      "source": [
        "y_train = tf.keras.utils.to_categorical(y_train) # one hot the labels\n",
        "y_test = tf.keras.utils.to_categorical(y_test)"
      ]
    },
    {
      "cell_type": "markdown",
      "metadata": {},
      "source": [
        "## Create Pipline"
      ]
    },
    {
      "cell_type": "code",
      "execution_count": 21,
      "metadata": {
        "id": "rErkFay_rE1c"
      },
      "outputs": [],
      "source": [
        "AUTOTUNE = tf.data.experimental.AUTOTUNE\n",
        "BATH_SIZE = 32\n",
        "SHUFFLE_BUFFER = 100\n",
        "\n",
        "def vectorize(X_train, y_train):\n",
        "  vec = vectorize_layer(X_train)\n",
        "  return vec, y_train\n",
        "\n",
        "\n",
        "training = tf.data.Dataset.from_tensor_slices((X_train, y_train))\n",
        "training = training.map(vectorize, num_parallel_calls=AUTOTUNE)\n",
        "training = training.cache()\n",
        "training = training.shuffle(SHUFFLE_BUFFER)\n",
        "training = training.batch(BATH_SIZE, num_parallel_calls=AUTOTUNE, drop_remainder=True)\n",
        "training = training.prefetch(AUTOTUNE)\n",
        "\n",
        "test = tf.data.Dataset.from_tensor_slices((X_test, y_test))\n",
        "test = test.map(vectorize, num_parallel_calls=AUTOTUNE)\n",
        "test = test.cache()\n",
        "test = test.batch(BATH_SIZE, num_parallel_calls=AUTOTUNE)\n",
        "test = test.prefetch(AUTOTUNE)\n"
      ]
    },
    {
      "cell_type": "code",
      "execution_count": 23,
      "metadata": {
        "colab": {
          "base_uri": "https://localhost:8080/"
        },
        "id": "Ddb4Zcrevxj9",
        "outputId": "e33548ce-c382-46d8-f346-c64d8adc408d"
      },
      "outputs": [
        {
          "name": "stdout",
          "output_type": "stream",
          "text": [
            "(32, 10) (32, 5)\n",
            "(32, 10) (32, 5)\n",
            "(32, 10) (32, 5)\n",
            "(32, 10) (32, 5)\n"
          ]
        }
      ],
      "source": [
        "for x, lbl in training:\n",
        "  print(x.shape, lbl.shape)"
      ]
    },
    {
      "cell_type": "markdown",
      "metadata": {},
      "source": [
        "## Model"
      ]
    },
    {
      "cell_type": "code",
      "execution_count": 71,
      "metadata": {
        "id": "xHBFzfHrxC_w"
      },
      "outputs": [],
      "source": [
        "model = Sequential()\n",
        "model.add(Input((MAX_LEN, )))\n",
        "model.add(Embedding(MAX_TOKEN, EMBD_DIM, weights=[embedding_matrix], trainable=False))\n",
        "model.add(GlobalAveragePooling1D())\n",
        "model.add(Dropout(0.5))\n",
        "model.add(Dense(5, activation='softmax'))"
      ]
    },
    {
      "cell_type": "code",
      "execution_count": 72,
      "metadata": {
        "colab": {
          "base_uri": "https://localhost:8080/"
        },
        "id": "uzxNbKghXbzP",
        "outputId": "a2a2b50b-7a7c-49d7-dc83-27c23c21e8a7"
      },
      "outputs": [
        {
          "name": "stdout",
          "output_type": "stream",
          "text": [
            "Model: \"sequential_7\"\n",
            "_________________________________________________________________\n",
            " Layer (type)                Output Shape              Param #   \n",
            "=================================================================\n",
            " embedding_7 (Embedding)     (None, 10, 50)            20000100  \n",
            "                                                                 \n",
            " global_average_pooling1d_3  (None, 50)                0         \n",
            "  (GlobalAveragePooling1D)                                       \n",
            "                                                                 \n",
            " dropout_11 (Dropout)        (None, 50)                0         \n",
            "                                                                 \n",
            " dense_7 (Dense)             (None, 5)                 255       \n",
            "                                                                 \n",
            "=================================================================\n",
            "Total params: 20000355 (76.30 MB)\n",
            "Trainable params: 255 (1020.00 Byte)\n",
            "Non-trainable params: 20000100 (76.29 MB)\n",
            "_________________________________________________________________\n"
          ]
        }
      ],
      "source": [
        "model.summary()"
      ]
    },
    {
      "cell_type": "code",
      "execution_count": 73,
      "metadata": {
        "id": "kUSmFnp-yqWp"
      },
      "outputs": [],
      "source": [
        "model.compile(loss='categorical_crossentropy', optimizer=tf.optimizers.Adam(1e-3), metrics=['accuracy'] )"
      ]
    },
    {
      "cell_type": "code",
      "execution_count": 74,
      "metadata": {
        "id": "AviBEPN8y3DU"
      },
      "outputs": [],
      "source": [
        "history = model.fit(training, epochs = 2000, verbose=0)"
      ]
    },
    {
      "cell_type": "code",
      "execution_count": 75,
      "metadata": {
        "colab": {
          "base_uri": "https://localhost:8080/",
          "height": 487
        },
        "id": "wDxmG_YO4sKD",
        "outputId": "780bb52a-e96d-4c53-e54e-a1ad83107f51"
      },
      "outputs": [
        {
          "data": {
            "image/png": "[encoded data removed]",
            "text/plain": [
              "<Figure size 1000x500 with 2 Axes>"
            ]
          },
          "metadata": {},
          "output_type": "display_data"
        }
      ],
      "source": [
        "import matplotlib.pyplot as plt\n",
        "\n",
        "fig = plt.figure(figsize=(10, 5))\n",
        "ax = plt.subplot(121)\n",
        "ax.plot(history.epoch, history.history['loss'])\n",
        "ax.set_title('Loss per epoch')\n",
        "ax.set_xlabel('epoch')\n",
        "ax.set_ylabel('loss')\n",
        "ax.grid(c='#ccc')\n",
        "\n",
        "ax = plt.subplot(122)\n",
        "ax.plot(history.epoch, history.history['accuracy'])\n",
        "ax.set_title('Accuracy per epoch')\n",
        "ax.set_xlabel('epoch')\n",
        "ax.set_ylabel('accuracy')\n",
        "ax.grid(c='#ccc')"
      ]
    },
    {
      "cell_type": "code",
      "execution_count": 76,
      "metadata": {
        "colab": {
          "base_uri": "https://localhost:8080/"
        },
        "id": "iVhkWdUc4uQa",
        "outputId": "44858f1d-6da1-47d5-fa47-d7147d1d4d5e"
      },
      "outputs": [
        {
          "name": "stderr",
          "output_type": "stream",
          "text": [
            "WARNING:tensorflow:6 out of the last 11 calls to <function Model.make_test_function.<locals>.test_function at 0x7d9dfd047400> triggered tf.function retracing. Tracing is expensive and the excessive number of tracings could be due to (1) creating @tf.function repeatedly in a loop, (2) passing tensors with different shapes, (3) passing Python objects instead of tensors. For (1), please define your @tf.function outside of the loop. For (2), @tf.function has reduce_retracing=True option that can avoid unnecessary retracing. For (3), please refer to https://www.tensorflow.org/guide/function#controlling_retracing and https://www.tensorflow.org/api_docs/python/tf/function for  more details.\n"
          ]
        },
        {
          "name": "stdout",
          "output_type": "stream",
          "text": [
            "2/2 [==============================] - 0s 12ms/step - loss: 0.7072 - accuracy: 0.7679\n"
          ]
        }
      ],
      "source": [
        "eval_loss, eval_accuracy = model.evaluate(test)"
      ]
    },
    {
      "cell_type": "code",
      "execution_count": 77,
      "metadata": {
        "colab": {
          "base_uri": "https://localhost:8080/"
        },
        "id": "PlysZshH4u7d",
        "outputId": "68afa861-0372-4744-8070-a7bbff54e96f"
      },
      "outputs": [
        {
          "name": "stdout",
          "output_type": "stream",
          "text": [
            "2/2 [==============================] - 0s 5ms/step\n",
            "              she got me a nice present\t : True emoji is 😊 Predicted 🩶\n",
            "                           work is hard\t : True emoji is 😞 Predicted 😊\n",
            "           This girl is messing with me\t : True emoji is 😞 Predicted 🩶\n",
            "                       work is horrible\t : True emoji is 😞 Predicted 😊\n",
            "                    you brighten my day\t : True emoji is 😊 Predicted 🩶\n",
            "                         she is a bully\t : True emoji is 😞 Predicted 😊\n",
            "                     I miss you so much\t : True emoji is 🩶 Predicted 😊\n",
            "                   My life is so boring\t : True emoji is 😞 Predicted 🩶\n",
            "                           she said yes\t : True emoji is 😊 Predicted 😞\n",
            "               will you be my valentine\t : True emoji is 😊 Predicted 😞\n",
            "                             I am hungry : True emoji is 🍴 Predicted 😞\n",
            "                   family is all I have\t : True emoji is 🩶 Predicted 😞\n",
            "               I did not have breakfast  : True emoji is 🍴 Predicted 😞\n"
          ]
        }
      ],
      "source": [
        "y_pred = model.predict(test)\n",
        "y_pred = tf.argmax(y_pred, axis = 1)\n",
        "y_test_p = tf.argmax(y_test, axis = 1)\n",
        "wrong = np.array(y_test_p) == np.array(y_pred)\n",
        "wrong = tf.where(wrong == False).numpy().flatten()\n",
        "\n",
        "for w in wrong:\n",
        "    print(f'{X_test[w]:>40}', ': True emoji is', emoji.emojize(emoji_dictionary[np.array(y_test_p)[w]]), 'Predicted', emoji.emojize(emoji_dictionary[y_pred[w].numpy()]))"
      ]
    },
    {
      "cell_type": "markdown",
      "metadata": {},
      "source": [
        "## Test the model\n",
        "\n",
        "We've observed limitations in the current system due to its inability to contextualize words seen previously. This lack of sequential comprehension impacts performance. Enhancements in our next version will address this issue by incorporating a deeper understanding of word order and context."
      ]
    },
    {
      "cell_type": "code",
      "execution_count": 78,
      "metadata": {
        "colab": {
          "base_uri": "https://localhost:8080/"
        },
        "id": "ZxtQH9O24y1o",
        "outputId": "34a6c736-88cc-482a-c92b-52b5b354cfca"
      },
      "outputs": [
        {
          "name": "stdout",
          "output_type": "stream",
          "text": [
            "                             i adore you  -- > Predicted 😊\n",
            "                              i hate you  -- > Predicted 😞\n",
            "                  i am not feeling happy  -- > Predicted 😞\n",
            "                         i am not hungry  -- > Predicted 😞\n",
            "                      i am scared of you  -- > Predicted 😞\n",
            "                           i want dinner  -- > Predicted 🍴\n",
            "                     he is a good friend  -- > Predicted 😊\n"
          ]
        }
      ],
      "source": [
        "\n",
        "test_sentences = [\n",
        "    'i adore you',\n",
        "    'i hate you',\n",
        "    'i am not feeling happy',\n",
        "    'i am not hungry',\n",
        "    'i am scared of you',\n",
        "    'i want dinner',\n",
        "    'he is a good friend'\n",
        "]\n",
        "\n",
        "y_test_pred = np.argmax(model.predict(vectorize_layer(test_sentences), verbose=0), axis=-1)\n",
        "for i, s in enumerate(test_sentences):\n",
        "      print(f'{s:>40}', ' -- > Predicted', emoji.emojize(emoji_dictionary[y_test_pred[i]]))"
      ]
    }
  ],
  "metadata": {
    "accelerator": "GPU",
    "colab": {
      "gpuType": "T4",
      "provenance": []
    },
    "kernelspec": {
      "display_name": "Python 3",
      "name": "python3"
    },
    "language_info": {
      "name": "python"
    }
  },
  "nbformat": 4,
  "nbformat_minor": 0
}
