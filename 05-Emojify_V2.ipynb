{
  "cells": [
    {
      "cell_type": "markdown",
      "metadata": {},
      "source": [
        "# Emojify_V2\n",
        "\n",
        "This text classification tasks combines language and emotion by associating words or phrases with emojis.\n",
        "\n",
        "Our model of choice, the Recurrent Neural Network (RNN), facilitates a deeper understanding of context and expression through its sequential processing capability."
      ]
    },
    {
      "cell_type": "code",
      "execution_count": 1,
      "metadata": {
        "colab": {
          "base_uri": "https://localhost:8080/"
        },
        "id": "t3Zs27gUhOfH",
        "outputId": "7c3016b6-0227-434d-fdcf-acd390750d54"
      },
      "outputs": [
        {
          "name": "stdout",
          "output_type": "stream",
          "text": [
            "--2024-03-31 20:54:00--  http://nlp.stanford.edu/data/glove.6B.zip\n",
            "Resolving nlp.stanford.edu (nlp.stanford.edu)... 171.64.67.140\n",
            "Connecting to nlp.stanford.edu (nlp.stanford.edu)|171.64.67.140|:80... connected.\n",
            "HTTP request sent, awaiting response... 302 Found\n",
            "Location: https://nlp.stanford.edu/data/glove.6B.zip [following]\n",
            "--2024-03-31 20:54:00--  https://nlp.stanford.edu/data/glove.6B.zip\n",
            "Connecting to nlp.stanford.edu (nlp.stanford.edu)|171.64.67.140|:443... connected.\n",
            "HTTP request sent, awaiting response... 301 Moved Permanently\n",
            "Location: https://downloads.cs.stanford.edu/nlp/data/glove.6B.zip [following]\n",
            "--2024-03-31 20:54:00--  https://downloads.cs.stanford.edu/nlp/data/glove.6B.zip\n",
            "Resolving downloads.cs.stanford.edu (downloads.cs.stanford.edu)... 171.64.64.22\n",
            "Connecting to downloads.cs.stanford.edu (downloads.cs.stanford.edu)|171.64.64.22|:443... connected.\n",
            "HTTP request sent, awaiting response... 200 OK\n",
            "Length: 862182613 (822M) [application/zip]\n",
            "Saving to: ‘glove.6B.zip’\n",
            "\n",
            "glove.6B.zip        100%[===================>] 822.24M  4.68MB/s    in 3m 16s  \n",
            "\n",
            "2024-03-31 20:57:17 (4.19 MB/s) - ‘glove.6B.zip’ saved [862182613/862182613]\n",
            "\n"
          ]
        }
      ],
      "source": [
        "!wget http://nlp.stanford.edu/data/glove.6B.zip"
      ]
    },
    {
      "cell_type": "code",
      "execution_count": 2,
      "metadata": {
        "colab": {
          "base_uri": "https://localhost:8080/"
        },
        "id": "9AwL7_WpinHV",
        "outputId": "94f20608-3d84-4af9-8bd9-c1fa311f53fa"
      },
      "outputs": [
        {
          "name": "stdout",
          "output_type": "stream",
          "text": [
            "Archive:  glove.6B.zip\n",
            "  inflating: glove.6B.50d.txt        \n",
            "  inflating: glove.6B.100d.txt       \n",
            "  inflating: glove.6B.200d.txt       \n",
            "  inflating: glove.6B.300d.txt       \n"
          ]
        }
      ],
      "source": [
        "!unzip glove.6B.zip"
      ]
    },
    {
      "cell_type": "code",
      "execution_count": 3,
      "metadata": {
        "id": "XEMrXj-CjAM5"
      },
      "outputs": [],
      "source": [
        "import numpy as np\n",
        "import tensorflow as tf\n",
        "import csv\n",
        "from keras.layers import TextVectorization, LSTM, Dropout, Dense, Input, Embedding\n",
        "from keras.models import Sequential"
      ]
    },
    {
      "cell_type": "markdown",
      "metadata": {},
      "source": [
        "## Embeddings\n",
        "\n",
        "This code loads pre-trained word embeddings from a file and organizes them for quick access. It reads each line of the file to extract words and their respective embedding vectors, storing them in a dictionary. Additionally, it creates mappings between words and their indices, as well as indices and words. These mappings facilitate efficient word representation and retrieval in natural language processing tasks."
      ]
    },
    {
      "cell_type": "code",
      "execution_count": 4,
      "metadata": {
        "id": "FASFDQ5RhUkG"
      },
      "outputs": [],
      "source": [
        "EMBD_DIM = 50\n",
        "path = f'glove.6B.{EMBD_DIM}d.txt'\n",
        "\n",
        "def get_embeddings(path):\n",
        "  embeddings = {}\n",
        "  with open(path, 'r') as file:\n",
        "    for line in file:\n",
        "      lst = line.split()\n",
        "      word = lst[0]\n",
        "      embeddings[word] = np.array(lst[1:], dtype='float32')\n",
        "\n",
        "  i = 2\n",
        "  word_to_index = {}\n",
        "  index_to_word = {}\n",
        "\n",
        "  # index_to_word[0] = ''\n",
        "  # index_to_word[1] = 'UNK'\n",
        "  # word_to_index[''] = 0\n",
        "  # word_to_index['UNK'] = 1\n",
        "\n",
        "  for w in embeddings.keys():\n",
        "    word_to_index[w] = i\n",
        "    index_to_word[i] = w\n",
        "    i += 1\n",
        "\n",
        "  return embeddings, index_to_word, word_to_index\n"
      ]
    },
    {
      "cell_type": "code",
      "execution_count": 5,
      "metadata": {
        "id": "wRoe-mRiiQUD"
      },
      "outputs": [],
      "source": [
        "embeddings, index_to_word, word_to_index = get_embeddings(path)"
      ]
    },
    {
      "cell_type": "code",
      "execution_count": 6,
      "metadata": {
        "colab": {
          "base_uri": "https://localhost:8080/"
        },
        "id": "TxIg4_g2kP-j",
        "outputId": "371644cc-ff2e-4cf9-e39c-979d50a0e332"
      },
      "outputs": [
        {
          "data": {
            "text/plain": [
              "400000"
            ]
          },
          "execution_count": 6,
          "metadata": {},
          "output_type": "execute_result"
        }
      ],
      "source": [
        "len(embeddings)"
      ]
    },
    {
      "cell_type": "code",
      "execution_count": 7,
      "metadata": {
        "colab": {
          "base_uri": "https://localhost:8080/"
        },
        "id": "134dmZMHlNeU",
        "outputId": "ce597688-a338-4ce8-8884-d0a33c0eca74"
      },
      "outputs": [
        {
          "name": "stdout",
          "output_type": "stream",
          "text": [
            "Archive:  emojify.zip\n",
            "   creating: emojify/\n",
            "  inflating: emojify/emojify_data.csv  \n",
            "  inflating: emojify/tes.csv         \n",
            "  inflating: emojify/tess.csv        \n",
            "  inflating: emojify/tesss.csv       \n",
            "  inflating: emojify/test_emoji.csv  \n",
            "  inflating: emojify/train_emoji.csv  \n"
          ]
        }
      ],
      "source": [
        "!unzip emojify.zip"
      ]
    },
    {
      "cell_type": "markdown",
      "metadata": {},
      "source": [
        "## Load Dataset"
      ]
    },
    {
      "cell_type": "code",
      "execution_count": 8,
      "metadata": {
        "id": "w37hnKFqmDdu"
      },
      "outputs": [],
      "source": [
        "def read_data(path):\n",
        "  phrases = []\n",
        "  labels = []\n",
        "  with open(path, 'r') as file:\n",
        "    reader = csv.reader(file)\n",
        "    for line in reader:\n",
        "      phrases.append(line[0])\n",
        "      labels.append(int(line[1]))\n",
        "\n",
        "  return np.array(phrases), np.array(labels)\n"
      ]
    },
    {
      "cell_type": "code",
      "execution_count": 9,
      "metadata": {
        "id": "-qF0pUr5mrrD"
      },
      "outputs": [],
      "source": [
        "train_path = '/content/emojify/train_emoji.csv'\n",
        "test_path = '/content/emojify/tesss.csv'\n",
        "\n",
        "X_train, y_train = read_data(train_path)\n",
        "X_test, y_test = read_data(test_path)"
      ]
    },
    {
      "cell_type": "code",
      "execution_count": 10,
      "metadata": {
        "colab": {
          "base_uri": "https://localhost:8080/"
        },
        "id": "QJJE5AJ4m-c9",
        "outputId": "8ff1286d-225e-4b01-aeb8-2d54d41f8d25"
      },
      "outputs": [
        {
          "name": "stdout",
          "output_type": "stream",
          "text": [
            "(132,)\n",
            "(132,)\n"
          ]
        }
      ],
      "source": [
        "print(X_train.shape)\n",
        "print(y_train.shape)"
      ]
    },
    {
      "cell_type": "code",
      "execution_count": 11,
      "metadata": {
        "colab": {
          "base_uri": "https://localhost:8080/"
        },
        "id": "e1rdnXhenD9D",
        "outputId": "26b833b5-9748-4a4d-dcdf-08bc3f94c6d6"
      },
      "outputs": [
        {
          "name": "stdout",
          "output_type": "stream",
          "text": [
            "(56,)\n",
            "(56,)\n"
          ]
        }
      ],
      "source": [
        "print(X_test.shape)\n",
        "print(y_test.shape)"
      ]
    },
    {
      "cell_type": "code",
      "execution_count": 12,
      "metadata": {
        "colab": {
          "base_uri": "https://localhost:8080/"
        },
        "id": "ruQproE2naSW",
        "outputId": "d236d438-4dd7-4641-8a18-d1e956fe30c1"
      },
      "outputs": [
        {
          "name": "stdout",
          "output_type": "stream",
          "text": [
            "Collecting emoji\n",
            "  Downloading emoji-2.11.0-py2.py3-none-any.whl (433 kB)\n",
            "\u001b[?25l     \u001b[90m━━━━━━━━━━━━━━━━━━━━━━━━━━━━━━━━━━━━━━━━\u001b[0m \u001b[32m0.0/433.8 kB\u001b[0m \u001b[31m?\u001b[0m eta \u001b[36m-:--:--\u001b[0m\r\u001b[2K     \u001b[91m━━━━━━━━━━━━━━\u001b[0m\u001b[90m╺\u001b[0m\u001b[90m━━━━━━━━━━━━━━━━━━━━━━━━━\u001b[0m \u001b[32m153.6/433.8 kB\u001b[0m \u001b[31m4.4 MB/s\u001b[0m eta \u001b[36m0:00:01\u001b[0m\r\u001b[2K     \u001b[91m━━━━━━━━━━━━━━━━━━━━━━━━━━━━━━━━━━━━━━━\u001b[0m\u001b[91m╸\u001b[0m \u001b[32m430.1/433.8 kB\u001b[0m \u001b[31m6.8 MB/s\u001b[0m eta \u001b[36m0:00:01\u001b[0m\r\u001b[2K     \u001b[90m━━━━━━━━━━━━━━━━━━━━━━━━━━━━━━━━━━━━━━━━\u001b[0m \u001b[32m433.8/433.8 kB\u001b[0m \u001b[31m5.9 MB/s\u001b[0m eta \u001b[36m0:00:00\u001b[0m\n",
            "\u001b[?25hInstalling collected packages: emoji\n",
            "Successfully installed emoji-2.11.0\n"
          ]
        }
      ],
      "source": [
        "!pip install emoji"
      ]
    },
    {
      "cell_type": "code",
      "execution_count": 13,
      "metadata": {
        "id": "Xe2e3WltnqL1"
      },
      "outputs": [],
      "source": [
        "import emoji\n",
        "emoji_dictionary = {0: \":grey_heart:\",\n",
        "                    1: \":baseball:\",\n",
        "                    2: \":smiling_face_with_smiling_eyes:\",\n",
        "                    3: \":disappointed_face:\",\n",
        "                    4: \":fork_and_knife:\"}"
      ]
    },
    {
      "cell_type": "markdown",
      "metadata": {},
      "source": [
        "## Visualization"
      ]
    },
    {
      "cell_type": "code",
      "execution_count": 14,
      "metadata": {
        "colab": {
          "base_uri": "https://localhost:8080/"
        },
        "id": "xJRZ3JyynFfj",
        "outputId": "1f37ff3b-08ee-4437-de5b-569b3f34fc7e"
      },
      "outputs": [
        {
          "name": "stdout",
          "output_type": "stream",
          "text": [
            "never talk to me again 😞\n",
            "I am proud of your achievements 😊\n",
            "It is the worst day in my life 😞\n",
            "Miss you so much 🩶\n",
            "food is life 🍴\n",
            "I love you mum 🩶\n",
            "Stop saying bullshit 😞\n",
            "congratulations on your acceptance 😊\n",
            "The assignment is too long  😞\n",
            "I want to go play ⚾\n"
          ]
        }
      ],
      "source": [
        "for i in range(10):\n",
        "  print(X_train[i],emoji.emojize(emoji_dictionary[y_train[i]]))"
      ]
    },
    {
      "cell_type": "code",
      "execution_count": 15,
      "metadata": {
        "id": "XYbDFdb6nYnj"
      },
      "outputs": [],
      "source": [
        "MAX_TOKEN = len(embeddings) + 2\n",
        "embedding_matrix = np.zeros((MAX_TOKEN, EMBD_DIM))\n",
        "embedding_matrix[2:] = np.array(list(embeddings.values()))"
      ]
    },
    {
      "cell_type": "code",
      "execution_count": 16,
      "metadata": {
        "colab": {
          "base_uri": "https://localhost:8080/"
        },
        "id": "53vuz7qxooaP",
        "outputId": "c7c15a5c-8f32-4b00-fe17-2e03b5fe6c3d"
      },
      "outputs": [
        {
          "data": {
            "text/plain": [
              "array([ True,  True,  True,  True,  True,  True,  True,  True,  True,\n",
              "        True,  True,  True,  True,  True,  True,  True,  True,  True,\n",
              "        True,  True,  True,  True,  True,  True,  True,  True,  True,\n",
              "        True,  True,  True,  True,  True,  True,  True,  True,  True,\n",
              "        True,  True,  True,  True,  True,  True,  True,  True,  True,\n",
              "        True,  True,  True,  True,  True])"
            ]
          },
          "execution_count": 16,
          "metadata": {},
          "output_type": "execute_result"
        }
      ],
      "source": [
        "embedding_matrix[10] == embeddings[index_to_word[10]]"
      ]
    },
    {
      "cell_type": "code",
      "execution_count": 17,
      "metadata": {
        "colab": {
          "base_uri": "https://localhost:8080/"
        },
        "id": "zD5NT5QhqdDN",
        "outputId": "7a2ed40b-3bfa-4d31-bed0-bef5cc258d79"
      },
      "outputs": [
        {
          "data": {
            "text/plain": [
              "10"
            ]
          },
          "execution_count": 17,
          "metadata": {},
          "output_type": "execute_result"
        }
      ],
      "source": [
        "MAX_LEN = max([len(x.split()) for x in X_train])\n",
        "MAX_LEN"
      ]
    },
    {
      "cell_type": "markdown",
      "metadata": {},
      "source": [
        "## Vectorize Layer\n",
        "This code initializes a `TextVectorization` layer in TensorFlow, which helps prepare text data for neural network training. It sets parameters like `max_tokens` and `output_sequence_length` to control vocabulary size and sequence length. By providing a predefined vocabulary list, it ensures consistency with earlier word-to-index mappings. Overall, this layer simplifies text preprocessing, making it ready for use in neural network models.\n"
      ]
    },
    {
      "cell_type": "code",
      "execution_count": 18,
      "metadata": {
        "id": "CQNH8U44pJAN"
      },
      "outputs": [],
      "source": [
        "vectorize_layer = TextVectorization(max_tokens=MAX_TOKEN, output_sequence_length = MAX_LEN,\n",
        "                                    vocabulary=list(word_to_index.keys()))"
      ]
    },
    {
      "cell_type": "code",
      "execution_count": 19,
      "metadata": {
        "colab": {
          "base_uri": "https://localhost:8080/"
        },
        "id": "aYIVDg5griTe",
        "outputId": "8fab76b9-4a44-46f7-e35b-e83d34b5d588"
      },
      "outputs": [
        {
          "data": {
            "text/plain": [
              "<tf.Tensor: shape=(10,), dtype=int64, numpy=array([ 43, 837,  83,   0,   0,   0,   0,   0,   0,   0])>"
            ]
          },
          "execution_count": 19,
          "metadata": {},
          "output_type": "execute_result"
        }
      ],
      "source": [
        "vectorize_layer('I love you')"
      ]
    },
    {
      "cell_type": "code",
      "execution_count": 20,
      "metadata": {
        "id": "2u88TWcU9DM_"
      },
      "outputs": [],
      "source": [
        "y_train = tf.keras.utils.to_categorical(y_train)\n",
        "y_test = tf.keras.utils.to_categorical(y_test)"
      ]
    },
    {
      "cell_type": "markdown",
      "metadata": {},
      "source": [
        "## Create Pipline"
      ]
    },
    {
      "cell_type": "code",
      "execution_count": 21,
      "metadata": {
        "id": "rErkFay_rE1c"
      },
      "outputs": [],
      "source": [
        "AUTOTUNE = tf.data.experimental.AUTOTUNE\n",
        "BATH_SIZE = 32\n",
        "SHUFFLE_BUFFER = 100\n",
        "\n",
        "def vectorize(X_train, y_train):\n",
        "  vec = vectorize_layer(X_train)\n",
        "  return vec, y_train\n",
        "\n",
        "\n",
        "training = tf.data.Dataset.from_tensor_slices((X_train, y_train))\n",
        "training = training.map(vectorize, num_parallel_calls=AUTOTUNE)\n",
        "training = training.cache()\n",
        "training = training.shuffle(SHUFFLE_BUFFER)\n",
        "training = training.batch(BATH_SIZE, num_parallel_calls=AUTOTUNE, drop_remainder=True)\n",
        "training = training.prefetch(AUTOTUNE)\n",
        "\n",
        "test = tf.data.Dataset.from_tensor_slices((X_test, y_test))\n",
        "test = test.map(vectorize, num_parallel_calls=AUTOTUNE)\n",
        "test = test.cache()\n",
        "test = test.batch(BATH_SIZE, num_parallel_calls=AUTOTUNE)\n",
        "test = test.prefetch(AUTOTUNE)\n"
      ]
    },
    {
      "cell_type": "code",
      "execution_count": 23,
      "metadata": {
        "colab": {
          "base_uri": "https://localhost:8080/"
        },
        "id": "Ddb4Zcrevxj9",
        "outputId": "e33548ce-c382-46d8-f346-c64d8adc408d"
      },
      "outputs": [
        {
          "name": "stdout",
          "output_type": "stream",
          "text": [
            "(32, 10) (32, 5)\n",
            "(32, 10) (32, 5)\n",
            "(32, 10) (32, 5)\n",
            "(32, 10) (32, 5)\n"
          ]
        }
      ],
      "source": [
        "for x, lbl in training:\n",
        "  print(x.shape, lbl.shape)"
      ]
    },
    {
      "cell_type": "markdown",
      "metadata": {},
      "source": [
        "## Model\n",
        "\n",
        "This model is a sequential neural network designed for text classification tasks. It processes input text data through several layers:\n",
        "\n",
        "1. **Input Layer**: Defines the shape for input sequences.\n",
        "2. **Embedding Layer**: Converts word indices into dense vectors using pre-trained embeddings.\n",
        "3. **Two LSTM Layers**: These layers capture sequential patterns in the input data. The first LSTM layer returns sequences, while the second one doesn't.\n",
        "4. **Dropout Layers**: Applied after each LSTM layer to prevent overfitting by randomly dropping input units.\n",
        "5. **Dense Layer**: Produces output probabilities for classification using softmax activation.\n",
        "\n",
        "Overall, this model is well-suited for analyzing and classifying textual data into one of five classes, leveraging the sequential information within the text."
      ]
    },
    {
      "cell_type": "code",
      "execution_count": 41,
      "metadata": {
        "id": "xHBFzfHrxC_w"
      },
      "outputs": [],
      "source": [
        "model = Sequential()\n",
        "model.add(Input((MAX_LEN, )))\n",
        "model.add(Embedding(MAX_TOKEN, EMBD_DIM, weights=[embedding_matrix], trainable=False))\n",
        "model.add(LSTM(128, return_sequences=True))\n",
        "model.add(Dropout(0.6))\n",
        "model.add(LSTM(128))\n",
        "model.add(Dropout(0.7))\n",
        "model.add(Dense(5, activation='softmax'))"
      ]
    },
    {
      "cell_type": "code",
      "execution_count": 48,
      "metadata": {
        "colab": {
          "base_uri": "https://localhost:8080/"
        },
        "id": "uzxNbKghXbzP",
        "outputId": "228501c5-e279-4be5-b7e0-fd46e95479a4"
      },
      "outputs": [
        {
          "name": "stdout",
          "output_type": "stream",
          "text": [
            "Model: \"sequential_3\"\n",
            "_________________________________________________________________\n",
            " Layer (type)                Output Shape              Param #   \n",
            "=================================================================\n",
            " embedding_3 (Embedding)     (None, 10, 50)            20000100  \n",
            "                                                                 \n",
            " lstm_6 (LSTM)               (None, 10, 128)           91648     \n",
            "                                                                 \n",
            " dropout_6 (Dropout)         (None, 10, 128)           0         \n",
            "                                                                 \n",
            " lstm_7 (LSTM)               (None, 128)               131584    \n",
            "                                                                 \n",
            " dropout_7 (Dropout)         (None, 128)               0         \n",
            "                                                                 \n",
            " dense_3 (Dense)             (None, 5)                 645       \n",
            "                                                                 \n",
            "=================================================================\n",
            "Total params: 20223977 (77.15 MB)\n",
            "Trainable params: 223877 (874.52 KB)\n",
            "Non-trainable params: 20000100 (76.29 MB)\n",
            "_________________________________________________________________\n"
          ]
        }
      ],
      "source": [
        "model.summary()"
      ]
    },
    {
      "cell_type": "code",
      "execution_count": 42,
      "metadata": {
        "id": "kUSmFnp-yqWp"
      },
      "outputs": [],
      "source": [
        "model.compile(loss='categorical_crossentropy', optimizer=tf.optimizers.Adam(1e-3), metrics=['accuracy'] )"
      ]
    },
    {
      "cell_type": "markdown",
      "metadata": {},
      "source": [
        "## Training"
      ]
    },
    {
      "cell_type": "code",
      "execution_count": 43,
      "metadata": {
        "colab": {
          "base_uri": "https://localhost:8080/"
        },
        "id": "AviBEPN8y3DU",
        "outputId": "23255ef7-d8cf-48d8-de1b-a8a258922893"
      },
      "outputs": [
        {
          "name": "stdout",
          "output_type": "stream",
          "text": [
            "Epoch 1/300\n",
            "4/4 [==============================] - 4s 34ms/step - loss: 1.5965 - accuracy: 0.2578\n",
            "Epoch 2/300\n",
            "4/4 [==============================] - 0s 31ms/step - loss: 1.5314 - accuracy: 0.3203\n",
            "Epoch 3/300\n",
            "4/4 [==============================] - 0s 31ms/step - loss: 1.5374 - accuracy: 0.3125\n",
            "Epoch 4/300\n",
            "4/4 [==============================] - 0s 32ms/step - loss: 1.4892 - accuracy: 0.2891\n",
            "Epoch 5/300\n",
            "4/4 [==============================] - 0s 34ms/step - loss: 1.4140 - accuracy: 0.3906\n",
            "Epoch 6/300\n",
            "4/4 [==============================] - 0s 35ms/step - loss: 1.3418 - accuracy: 0.4531\n",
            "Epoch 7/300\n",
            "4/4 [==============================] - 0s 41ms/step - loss: 1.2155 - accuracy: 0.5234\n",
            "Epoch 8/300\n",
            "4/4 [==============================] - 0s 38ms/step - loss: 1.1343 - accuracy: 0.6172\n",
            "Epoch 9/300\n",
            "4/4 [==============================] - 0s 37ms/step - loss: 1.0507 - accuracy: 0.6172\n",
            "Epoch 10/300\n",
            "4/4 [==============================] - 0s 36ms/step - loss: 0.9304 - accuracy: 0.6719\n",
            "Epoch 11/300\n",
            "4/4 [==============================] - 0s 31ms/step - loss: 0.8128 - accuracy: 0.7031\n",
            "Epoch 12/300\n",
            "4/4 [==============================] - 0s 31ms/step - loss: 0.7384 - accuracy: 0.7734\n",
            "Epoch 13/300\n",
            "4/4 [==============================] - 0s 31ms/step - loss: 0.6002 - accuracy: 0.8047\n",
            "Epoch 14/300\n",
            "4/4 [==============================] - 0s 36ms/step - loss: 0.5940 - accuracy: 0.7891\n",
            "Epoch 15/300\n",
            "4/4 [==============================] - 0s 35ms/step - loss: 0.4696 - accuracy: 0.8672\n",
            "Epoch 16/300\n",
            "4/4 [==============================] - 0s 35ms/step - loss: 0.5194 - accuracy: 0.8125\n",
            "Epoch 17/300\n",
            "4/4 [==============================] - 0s 35ms/step - loss: 0.4356 - accuracy: 0.8516\n",
            "Epoch 18/300\n",
            "4/4 [==============================] - 0s 43ms/step - loss: 0.5040 - accuracy: 0.8203\n",
            "Epoch 19/300\n",
            "4/4 [==============================] - 0s 39ms/step - loss: 0.3870 - accuracy: 0.8828\n",
            "Epoch 20/300\n",
            "4/4 [==============================] - 0s 33ms/step - loss: 0.3205 - accuracy: 0.8828\n",
            "Epoch 21/300\n",
            "4/4 [==============================] - 0s 31ms/step - loss: 0.2519 - accuracy: 0.9062\n",
            "Epoch 22/300\n",
            "4/4 [==============================] - 0s 31ms/step - loss: 0.3321 - accuracy: 0.9141\n",
            "Epoch 23/300\n",
            "4/4 [==============================] - 0s 31ms/step - loss: 0.2788 - accuracy: 0.8984\n",
            "Epoch 24/300\n",
            "4/4 [==============================] - 0s 35ms/step - loss: 0.2661 - accuracy: 0.8984\n",
            "Epoch 25/300\n",
            "4/4 [==============================] - 0s 32ms/step - loss: 0.3041 - accuracy: 0.9062\n",
            "Epoch 26/300\n",
            "4/4 [==============================] - 0s 34ms/step - loss: 0.2459 - accuracy: 0.8984\n",
            "Epoch 27/300\n",
            "4/4 [==============================] - 0s 36ms/step - loss: 0.1973 - accuracy: 0.9297\n",
            "Epoch 28/300\n",
            "4/4 [==============================] - 0s 46ms/step - loss: 0.2185 - accuracy: 0.9297\n",
            "Epoch 29/300\n",
            "4/4 [==============================] - 0s 34ms/step - loss: 0.1288 - accuracy: 0.9453\n",
            "Epoch 30/300\n",
            "4/4 [==============================] - 0s 35ms/step - loss: 0.1763 - accuracy: 0.9297\n",
            "Epoch 31/300\n",
            "4/4 [==============================] - 0s 30ms/step - loss: 0.1687 - accuracy: 0.9609\n",
            "Epoch 32/300\n",
            "4/4 [==============================] - 0s 32ms/step - loss: 0.0935 - accuracy: 0.9922\n",
            "Epoch 33/300\n",
            "4/4 [==============================] - 0s 34ms/step - loss: 0.0746 - accuracy: 0.9922\n",
            "Epoch 34/300\n",
            "4/4 [==============================] - 0s 31ms/step - loss: 0.0750 - accuracy: 0.9844\n",
            "Epoch 35/300\n",
            "4/4 [==============================] - 0s 33ms/step - loss: 0.0622 - accuracy: 0.9922\n",
            "Epoch 36/300\n",
            "4/4 [==============================] - 0s 31ms/step - loss: 0.0564 - accuracy: 0.9844\n",
            "Epoch 37/300\n",
            "4/4 [==============================] - 0s 33ms/step - loss: 0.1319 - accuracy: 0.9531\n",
            "Epoch 38/300\n",
            "4/4 [==============================] - 0s 63ms/step - loss: 0.2735 - accuracy: 0.9453\n",
            "Epoch 39/300\n",
            "4/4 [==============================] - 0s 66ms/step - loss: 0.2353 - accuracy: 0.9219\n",
            "Epoch 40/300\n",
            "4/4 [==============================] - 0s 65ms/step - loss: 0.3649 - accuracy: 0.8750\n",
            "Epoch 41/300\n",
            "4/4 [==============================] - 0s 71ms/step - loss: 0.1719 - accuracy: 0.9219\n",
            "Epoch 42/300\n",
            "4/4 [==============================] - 0s 64ms/step - loss: 0.1423 - accuracy: 0.9531\n",
            "Epoch 43/300\n",
            "4/4 [==============================] - 0s 80ms/step - loss: 0.0740 - accuracy: 0.9922\n",
            "Epoch 44/300\n",
            "4/4 [==============================] - 1s 130ms/step - loss: 0.1504 - accuracy: 0.9141\n",
            "Epoch 45/300\n",
            "4/4 [==============================] - 0s 81ms/step - loss: 0.0663 - accuracy: 0.9922\n",
            "Epoch 46/300\n",
            "4/4 [==============================] - 0s 99ms/step - loss: 0.0732 - accuracy: 0.9844\n",
            "Epoch 47/300\n",
            "4/4 [==============================] - 0s 76ms/step - loss: 0.0489 - accuracy: 0.9844\n",
            "Epoch 48/300\n",
            "4/4 [==============================] - 0s 75ms/step - loss: 0.0382 - accuracy: 1.0000\n",
            "Epoch 49/300\n",
            "4/4 [==============================] - 0s 78ms/step - loss: 0.0434 - accuracy: 0.9922\n",
            "Epoch 50/300\n",
            "4/4 [==============================] - 0s 85ms/step - loss: 0.0195 - accuracy: 1.0000\n",
            "Epoch 51/300\n",
            "4/4 [==============================] - 0s 98ms/step - loss: 0.0189 - accuracy: 1.0000\n",
            "Epoch 52/300\n",
            "4/4 [==============================] - 0s 93ms/step - loss: 0.0162 - accuracy: 1.0000\n",
            "Epoch 53/300\n",
            "4/4 [==============================] - 0s 126ms/step - loss: 0.0192 - accuracy: 1.0000\n",
            "Epoch 54/300\n",
            "4/4 [==============================] - 0s 93ms/step - loss: 0.0088 - accuracy: 1.0000\n",
            "Epoch 55/300\n",
            "4/4 [==============================] - 1s 130ms/step - loss: 0.0130 - accuracy: 0.9922\n",
            "Epoch 56/300\n",
            "4/4 [==============================] - 0s 77ms/step - loss: 0.0112 - accuracy: 1.0000\n",
            "Epoch 57/300\n",
            "4/4 [==============================] - 0s 69ms/step - loss: 0.0163 - accuracy: 1.0000\n",
            "Epoch 58/300\n",
            "4/4 [==============================] - 0s 73ms/step - loss: 0.0116 - accuracy: 1.0000\n",
            "Epoch 59/300\n",
            "4/4 [==============================] - 0s 73ms/step - loss: 0.0235 - accuracy: 0.9922\n",
            "Epoch 60/300\n",
            "4/4 [==============================] - 0s 70ms/step - loss: 0.0188 - accuracy: 0.9922\n",
            "Epoch 61/300\n",
            "4/4 [==============================] - 0s 72ms/step - loss: 0.0138 - accuracy: 1.0000\n",
            "Epoch 62/300\n",
            "4/4 [==============================] - 0s 79ms/step - loss: 0.0076 - accuracy: 1.0000\n",
            "Epoch 63/300\n",
            "4/4 [==============================] - 0s 76ms/step - loss: 0.0089 - accuracy: 1.0000\n",
            "Epoch 64/300\n",
            "4/4 [==============================] - 0s 82ms/step - loss: 0.0073 - accuracy: 1.0000\n",
            "Epoch 65/300\n",
            "4/4 [==============================] - 0s 81ms/step - loss: 0.0067 - accuracy: 1.0000\n",
            "Epoch 66/300\n",
            "4/4 [==============================] - 0s 77ms/step - loss: 0.0097 - accuracy: 1.0000\n",
            "Epoch 67/300\n",
            "4/4 [==============================] - 0s 81ms/step - loss: 0.0058 - accuracy: 1.0000\n",
            "Epoch 68/300\n",
            "4/4 [==============================] - 0s 73ms/step - loss: 0.0109 - accuracy: 1.0000\n",
            "Epoch 69/300\n",
            "4/4 [==============================] - 0s 73ms/step - loss: 0.0056 - accuracy: 1.0000\n",
            "Epoch 70/300\n",
            "4/4 [==============================] - 0s 67ms/step - loss: 0.0041 - accuracy: 1.0000\n",
            "Epoch 71/300\n",
            "4/4 [==============================] - 0s 71ms/step - loss: 0.0054 - accuracy: 1.0000\n",
            "Epoch 72/300\n",
            "4/4 [==============================] - 0s 66ms/step - loss: 0.0060 - accuracy: 1.0000\n",
            "Epoch 73/300\n",
            "4/4 [==============================] - 0s 90ms/step - loss: 0.0052 - accuracy: 1.0000\n",
            "Epoch 74/300\n",
            "4/4 [==============================] - 0s 88ms/step - loss: 0.0071 - accuracy: 1.0000\n",
            "Epoch 75/300\n",
            "4/4 [==============================] - 0s 74ms/step - loss: 0.0025 - accuracy: 1.0000\n",
            "Epoch 76/300\n",
            "4/4 [==============================] - 0s 78ms/step - loss: 0.0062 - accuracy: 1.0000\n",
            "Epoch 77/300\n",
            "4/4 [==============================] - 0s 76ms/step - loss: 0.0025 - accuracy: 1.0000\n",
            "Epoch 78/300\n",
            "4/4 [==============================] - 0s 86ms/step - loss: 0.0026 - accuracy: 1.0000\n",
            "Epoch 79/300\n",
            "4/4 [==============================] - 0s 86ms/step - loss: 0.0044 - accuracy: 1.0000\n",
            "Epoch 80/300\n",
            "4/4 [==============================] - 0s 74ms/step - loss: 0.0028 - accuracy: 1.0000\n",
            "Epoch 81/300\n",
            "4/4 [==============================] - 0s 87ms/step - loss: 0.0029 - accuracy: 1.0000\n",
            "Epoch 82/300\n",
            "4/4 [==============================] - 0s 82ms/step - loss: 0.0033 - accuracy: 1.0000\n",
            "Epoch 83/300\n",
            "4/4 [==============================] - 0s 85ms/step - loss: 0.0022 - accuracy: 1.0000\n",
            "Epoch 84/300\n",
            "4/4 [==============================] - 0s 80ms/step - loss: 0.0017 - accuracy: 1.0000\n",
            "Epoch 85/300\n",
            "4/4 [==============================] - 0s 84ms/step - loss: 0.0022 - accuracy: 1.0000\n",
            "Epoch 86/300\n",
            "4/4 [==============================] - 0s 78ms/step - loss: 0.0037 - accuracy: 1.0000\n",
            "Epoch 87/300\n",
            "4/4 [==============================] - 0s 46ms/step - loss: 0.0028 - accuracy: 1.0000\n",
            "Epoch 88/300\n",
            "4/4 [==============================] - 0s 38ms/step - loss: 0.0019 - accuracy: 1.0000\n",
            "Epoch 89/300\n",
            "4/4 [==============================] - 0s 37ms/step - loss: 0.0030 - accuracy: 1.0000\n",
            "Epoch 90/300\n",
            "4/4 [==============================] - 0s 36ms/step - loss: 0.0012 - accuracy: 1.0000\n",
            "Epoch 91/300\n",
            "4/4 [==============================] - 0s 39ms/step - loss: 0.0031 - accuracy: 1.0000\n",
            "Epoch 92/300\n",
            "4/4 [==============================] - 0s 38ms/step - loss: 0.0016 - accuracy: 1.0000\n",
            "Epoch 93/300\n",
            "4/4 [==============================] - 0s 37ms/step - loss: 0.0040 - accuracy: 1.0000\n",
            "Epoch 94/300\n",
            "4/4 [==============================] - 0s 45ms/step - loss: 0.0026 - accuracy: 1.0000\n",
            "Epoch 95/300\n",
            "4/4 [==============================] - 0s 37ms/step - loss: 0.0039 - accuracy: 1.0000\n",
            "Epoch 96/300\n",
            "4/4 [==============================] - 0s 34ms/step - loss: 0.0025 - accuracy: 1.0000\n",
            "Epoch 97/300\n",
            "4/4 [==============================] - 0s 33ms/step - loss: 0.0026 - accuracy: 1.0000\n",
            "Epoch 98/300\n",
            "4/4 [==============================] - 0s 35ms/step - loss: 0.0017 - accuracy: 1.0000\n",
            "Epoch 99/300\n",
            "4/4 [==============================] - 0s 32ms/step - loss: 0.0010 - accuracy: 1.0000\n",
            "Epoch 100/300\n",
            "4/4 [==============================] - 0s 32ms/step - loss: 0.0022 - accuracy: 1.0000\n",
            "Epoch 101/300\n",
            "4/4 [==============================] - 0s 35ms/step - loss: 0.0021 - accuracy: 1.0000\n",
            "Epoch 102/300\n",
            "4/4 [==============================] - 0s 32ms/step - loss: 0.0023 - accuracy: 1.0000\n",
            "Epoch 103/300\n",
            "4/4 [==============================] - 0s 31ms/step - loss: 0.0035 - accuracy: 1.0000\n",
            "Epoch 104/300\n",
            "4/4 [==============================] - 0s 32ms/step - loss: 0.0011 - accuracy: 1.0000\n",
            "Epoch 105/300\n",
            "4/4 [==============================] - 0s 36ms/step - loss: 0.0039 - accuracy: 1.0000\n",
            "Epoch 106/300\n",
            "4/4 [==============================] - 0s 32ms/step - loss: 0.0016 - accuracy: 1.0000\n",
            "Epoch 107/300\n",
            "4/4 [==============================] - 0s 30ms/step - loss: 0.0021 - accuracy: 1.0000\n",
            "Epoch 108/300\n",
            "4/4 [==============================] - 0s 32ms/step - loss: 0.0012 - accuracy: 1.0000\n",
            "Epoch 109/300\n",
            "4/4 [==============================] - 0s 37ms/step - loss: 9.7914e-04 - accuracy: 1.0000\n",
            "Epoch 110/300\n",
            "4/4 [==============================] - 0s 37ms/step - loss: 0.0304 - accuracy: 0.9844\n",
            "Epoch 111/300\n",
            "4/4 [==============================] - 0s 36ms/step - loss: 0.0751 - accuracy: 0.9844\n",
            "Epoch 112/300\n",
            "4/4 [==============================] - 0s 41ms/step - loss: 0.0115 - accuracy: 1.0000\n",
            "Epoch 113/300\n",
            "4/4 [==============================] - 0s 36ms/step - loss: 0.4871 - accuracy: 0.9141\n",
            "Epoch 114/300\n",
            "4/4 [==============================] - 0s 37ms/step - loss: 0.5228 - accuracy: 0.8828\n",
            "Epoch 115/300\n",
            "4/4 [==============================] - 0s 35ms/step - loss: 0.1228 - accuracy: 0.9688\n",
            "Epoch 116/300\n",
            "4/4 [==============================] - 0s 45ms/step - loss: 0.3602 - accuracy: 0.9297\n",
            "Epoch 117/300\n",
            "4/4 [==============================] - 0s 38ms/step - loss: 0.1297 - accuracy: 0.9453\n",
            "Epoch 118/300\n",
            "4/4 [==============================] - 0s 39ms/step - loss: 0.0682 - accuracy: 0.9922\n",
            "Epoch 119/300\n",
            "4/4 [==============================] - 0s 36ms/step - loss: 0.1175 - accuracy: 0.9688\n",
            "Epoch 120/300\n",
            "4/4 [==============================] - 0s 39ms/step - loss: 0.0561 - accuracy: 1.0000\n",
            "Epoch 121/300\n",
            "4/4 [==============================] - 0s 35ms/step - loss: 0.0432 - accuracy: 0.9922\n",
            "Epoch 122/300\n",
            "4/4 [==============================] - 0s 37ms/step - loss: 0.0579 - accuracy: 0.9766\n",
            "Epoch 123/300\n",
            "4/4 [==============================] - 0s 33ms/step - loss: 0.0274 - accuracy: 1.0000\n",
            "Epoch 124/300\n",
            "4/4 [==============================] - 0s 32ms/step - loss: 0.0139 - accuracy: 1.0000\n",
            "Epoch 125/300\n",
            "4/4 [==============================] - 0s 37ms/step - loss: 0.0115 - accuracy: 1.0000\n",
            "Epoch 126/300\n",
            "4/4 [==============================] - 0s 32ms/step - loss: 0.0187 - accuracy: 1.0000\n",
            "Epoch 127/300\n",
            "4/4 [==============================] - 0s 37ms/step - loss: 0.0098 - accuracy: 1.0000\n",
            "Epoch 128/300\n",
            "4/4 [==============================] - 0s 37ms/step - loss: 0.0078 - accuracy: 1.0000\n",
            "Epoch 129/300\n",
            "4/4 [==============================] - 0s 39ms/step - loss: 0.0091 - accuracy: 1.0000\n",
            "Epoch 130/300\n",
            "4/4 [==============================] - 0s 36ms/step - loss: 0.0074 - accuracy: 1.0000\n",
            "Epoch 131/300\n",
            "4/4 [==============================] - 0s 36ms/step - loss: 0.0057 - accuracy: 1.0000\n",
            "Epoch 132/300\n",
            "4/4 [==============================] - 0s 40ms/step - loss: 0.0046 - accuracy: 1.0000\n",
            "Epoch 133/300\n",
            "4/4 [==============================] - 0s 32ms/step - loss: 0.0081 - accuracy: 1.0000\n",
            "Epoch 134/300\n",
            "4/4 [==============================] - 0s 33ms/step - loss: 0.0071 - accuracy: 1.0000\n",
            "Epoch 135/300\n",
            "4/4 [==============================] - 0s 34ms/step - loss: 0.0047 - accuracy: 1.0000\n",
            "Epoch 136/300\n",
            "4/4 [==============================] - 0s 32ms/step - loss: 0.0099 - accuracy: 1.0000\n",
            "Epoch 137/300\n",
            "4/4 [==============================] - 0s 33ms/step - loss: 0.0026 - accuracy: 1.0000\n",
            "Epoch 138/300\n",
            "4/4 [==============================] - 0s 64ms/step - loss: 0.0035 - accuracy: 1.0000\n",
            "Epoch 139/300\n",
            "4/4 [==============================] - 0s 60ms/step - loss: 0.0047 - accuracy: 1.0000\n",
            "Epoch 140/300\n",
            "4/4 [==============================] - 0s 63ms/step - loss: 0.0037 - accuracy: 1.0000\n",
            "Epoch 141/300\n",
            "4/4 [==============================] - 0s 61ms/step - loss: 0.0056 - accuracy: 1.0000\n",
            "Epoch 142/300\n",
            "4/4 [==============================] - 0s 63ms/step - loss: 0.0027 - accuracy: 1.0000\n",
            "Epoch 143/300\n",
            "4/4 [==============================] - 0s 59ms/step - loss: 0.0029 - accuracy: 1.0000\n",
            "Epoch 144/300\n",
            "4/4 [==============================] - 0s 62ms/step - loss: 0.0029 - accuracy: 1.0000\n",
            "Epoch 145/300\n",
            "4/4 [==============================] - 0s 62ms/step - loss: 0.0021 - accuracy: 1.0000\n",
            "Epoch 146/300\n",
            "4/4 [==============================] - 0s 57ms/step - loss: 0.0023 - accuracy: 1.0000\n",
            "Epoch 147/300\n",
            "4/4 [==============================] - 0s 74ms/step - loss: 0.0043 - accuracy: 1.0000\n",
            "Epoch 148/300\n",
            "4/4 [==============================] - 0s 73ms/step - loss: 0.0026 - accuracy: 1.0000\n",
            "Epoch 149/300\n",
            "4/4 [==============================] - 0s 73ms/step - loss: 0.0031 - accuracy: 1.0000\n",
            "Epoch 150/300\n",
            "4/4 [==============================] - 0s 75ms/step - loss: 0.0057 - accuracy: 1.0000\n",
            "Epoch 151/300\n",
            "4/4 [==============================] - 0s 73ms/step - loss: 0.0021 - accuracy: 1.0000\n",
            "Epoch 152/300\n",
            "4/4 [==============================] - 0s 68ms/step - loss: 0.0061 - accuracy: 1.0000\n",
            "Epoch 153/300\n",
            "4/4 [==============================] - 0s 70ms/step - loss: 0.0026 - accuracy: 1.0000\n",
            "Epoch 154/300\n",
            "4/4 [==============================] - 0s 70ms/step - loss: 0.0029 - accuracy: 1.0000\n",
            "Epoch 155/300\n",
            "4/4 [==============================] - 0s 71ms/step - loss: 0.0020 - accuracy: 1.0000\n",
            "Epoch 156/300\n",
            "4/4 [==============================] - 0s 66ms/step - loss: 0.0019 - accuracy: 1.0000\n",
            "Epoch 157/300\n",
            "4/4 [==============================] - 0s 64ms/step - loss: 0.0027 - accuracy: 1.0000\n",
            "Epoch 158/300\n",
            "4/4 [==============================] - 0s 74ms/step - loss: 0.0025 - accuracy: 1.0000\n",
            "Epoch 159/300\n",
            "4/4 [==============================] - 0s 64ms/step - loss: 0.0022 - accuracy: 1.0000\n",
            "Epoch 160/300\n",
            "4/4 [==============================] - 0s 67ms/step - loss: 0.0039 - accuracy: 1.0000\n",
            "Epoch 161/300\n",
            "4/4 [==============================] - 0s 68ms/step - loss: 0.0028 - accuracy: 1.0000\n",
            "Epoch 162/300\n",
            "4/4 [==============================] - 0s 67ms/step - loss: 0.0017 - accuracy: 1.0000\n",
            "Epoch 163/300\n",
            "4/4 [==============================] - 0s 68ms/step - loss: 0.0016 - accuracy: 1.0000\n",
            "Epoch 164/300\n",
            "4/4 [==============================] - 0s 66ms/step - loss: 0.0022 - accuracy: 1.0000\n",
            "Epoch 165/300\n",
            "4/4 [==============================] - 0s 73ms/step - loss: 0.0036 - accuracy: 1.0000\n",
            "Epoch 166/300\n",
            "4/4 [==============================] - 0s 72ms/step - loss: 0.0019 - accuracy: 1.0000\n",
            "Epoch 167/300\n",
            "4/4 [==============================] - 0s 69ms/step - loss: 0.0018 - accuracy: 1.0000\n",
            "Epoch 168/300\n",
            "4/4 [==============================] - 0s 74ms/step - loss: 0.0026 - accuracy: 1.0000\n",
            "Epoch 169/300\n",
            "4/4 [==============================] - 0s 71ms/step - loss: 0.0020 - accuracy: 1.0000\n",
            "Epoch 170/300\n",
            "4/4 [==============================] - 0s 63ms/step - loss: 0.0019 - accuracy: 1.0000\n",
            "Epoch 171/300\n",
            "4/4 [==============================] - 0s 73ms/step - loss: 0.0021 - accuracy: 1.0000\n",
            "Epoch 172/300\n",
            "4/4 [==============================] - 0s 60ms/step - loss: 0.0022 - accuracy: 1.0000\n",
            "Epoch 173/300\n",
            "4/4 [==============================] - 0s 65ms/step - loss: 0.0014 - accuracy: 1.0000\n",
            "Epoch 174/300\n",
            "4/4 [==============================] - 0s 72ms/step - loss: 0.0021 - accuracy: 1.0000\n",
            "Epoch 175/300\n",
            "4/4 [==============================] - 0s 77ms/step - loss: 0.0016 - accuracy: 1.0000\n",
            "Epoch 176/300\n",
            "4/4 [==============================] - 0s 67ms/step - loss: 0.0015 - accuracy: 1.0000\n",
            "Epoch 177/300\n",
            "4/4 [==============================] - 0s 70ms/step - loss: 0.0013 - accuracy: 1.0000\n",
            "Epoch 178/300\n",
            "4/4 [==============================] - 0s 82ms/step - loss: 0.0021 - accuracy: 1.0000\n",
            "Epoch 179/300\n",
            "4/4 [==============================] - 0s 67ms/step - loss: 0.0015 - accuracy: 1.0000\n",
            "Epoch 180/300\n",
            "4/4 [==============================] - 0s 67ms/step - loss: 0.0014 - accuracy: 1.0000\n",
            "Epoch 181/300\n",
            "4/4 [==============================] - 0s 80ms/step - loss: 0.0018 - accuracy: 1.0000\n",
            "Epoch 182/300\n",
            "4/4 [==============================] - 0s 92ms/step - loss: 0.0013 - accuracy: 1.0000\n",
            "Epoch 183/300\n",
            "4/4 [==============================] - 0s 79ms/step - loss: 0.0011 - accuracy: 1.0000\n",
            "Epoch 184/300\n",
            "4/4 [==============================] - 0s 93ms/step - loss: 0.0012 - accuracy: 1.0000\n",
            "Epoch 185/300\n",
            "4/4 [==============================] - 0s 74ms/step - loss: 0.0016 - accuracy: 1.0000\n",
            "Epoch 186/300\n",
            "4/4 [==============================] - 0s 75ms/step - loss: 0.0012 - accuracy: 1.0000\n",
            "Epoch 187/300\n",
            "4/4 [==============================] - 0s 75ms/step - loss: 0.0012 - accuracy: 1.0000\n",
            "Epoch 188/300\n",
            "4/4 [==============================] - 0s 70ms/step - loss: 9.5899e-04 - accuracy: 1.0000\n",
            "Epoch 189/300\n",
            "4/4 [==============================] - 0s 74ms/step - loss: 0.0019 - accuracy: 1.0000\n",
            "Epoch 190/300\n",
            "4/4 [==============================] - 0s 77ms/step - loss: 0.0011 - accuracy: 1.0000\n",
            "Epoch 191/300\n",
            "4/4 [==============================] - 0s 65ms/step - loss: 9.9010e-04 - accuracy: 1.0000\n",
            "Epoch 192/300\n",
            "4/4 [==============================] - 0s 70ms/step - loss: 0.0014 - accuracy: 1.0000\n",
            "Epoch 193/300\n",
            "4/4 [==============================] - 0s 73ms/step - loss: 0.0011 - accuracy: 1.0000\n",
            "Epoch 194/300\n",
            "4/4 [==============================] - 0s 80ms/step - loss: 6.6535e-04 - accuracy: 1.0000\n",
            "Epoch 195/300\n",
            "4/4 [==============================] - 0s 78ms/step - loss: 0.0011 - accuracy: 1.0000\n",
            "Epoch 196/300\n",
            "4/4 [==============================] - 0s 48ms/step - loss: 0.0015 - accuracy: 1.0000\n",
            "Epoch 197/300\n",
            "4/4 [==============================] - 0s 39ms/step - loss: 0.0013 - accuracy: 1.0000\n",
            "Epoch 198/300\n",
            "4/4 [==============================] - 0s 32ms/step - loss: 0.0011 - accuracy: 1.0000\n",
            "Epoch 199/300\n",
            "4/4 [==============================] - 0s 32ms/step - loss: 9.4426e-04 - accuracy: 1.0000\n",
            "Epoch 200/300\n",
            "4/4 [==============================] - 0s 33ms/step - loss: 0.0016 - accuracy: 1.0000\n",
            "Epoch 201/300\n",
            "4/4 [==============================] - 0s 33ms/step - loss: 9.4107e-04 - accuracy: 1.0000\n",
            "Epoch 202/300\n",
            "4/4 [==============================] - 0s 35ms/step - loss: 0.0014 - accuracy: 1.0000\n",
            "Epoch 203/300\n",
            "4/4 [==============================] - 0s 31ms/step - loss: 0.0018 - accuracy: 1.0000\n",
            "Epoch 204/300\n",
            "4/4 [==============================] - 0s 31ms/step - loss: 7.6007e-04 - accuracy: 1.0000\n",
            "Epoch 205/300\n",
            "4/4 [==============================] - 0s 35ms/step - loss: 8.3993e-04 - accuracy: 1.0000\n",
            "Epoch 206/300\n",
            "4/4 [==============================] - 0s 34ms/step - loss: 0.0012 - accuracy: 1.0000\n",
            "Epoch 207/300\n",
            "4/4 [==============================] - 0s 33ms/step - loss: 0.0019 - accuracy: 1.0000\n",
            "Epoch 208/300\n",
            "4/4 [==============================] - 0s 32ms/step - loss: 0.0011 - accuracy: 1.0000\n",
            "Epoch 209/300\n",
            "4/4 [==============================] - 0s 32ms/step - loss: 9.5270e-04 - accuracy: 1.0000\n",
            "Epoch 210/300\n",
            "4/4 [==============================] - 0s 32ms/step - loss: 0.0012 - accuracy: 1.0000\n",
            "Epoch 211/300\n",
            "4/4 [==============================] - 0s 33ms/step - loss: 0.0025 - accuracy: 1.0000\n",
            "Epoch 212/300\n",
            "4/4 [==============================] - 0s 31ms/step - loss: 8.5509e-04 - accuracy: 1.0000\n",
            "Epoch 213/300\n",
            "4/4 [==============================] - 0s 34ms/step - loss: 7.4201e-04 - accuracy: 1.0000\n",
            "Epoch 214/300\n",
            "4/4 [==============================] - 0s 31ms/step - loss: 0.0014 - accuracy: 1.0000\n",
            "Epoch 215/300\n",
            "4/4 [==============================] - 0s 32ms/step - loss: 8.6324e-04 - accuracy: 1.0000\n",
            "Epoch 216/300\n",
            "4/4 [==============================] - 0s 34ms/step - loss: 7.6324e-04 - accuracy: 1.0000\n",
            "Epoch 217/300\n",
            "4/4 [==============================] - 0s 31ms/step - loss: 7.7610e-04 - accuracy: 1.0000\n",
            "Epoch 218/300\n",
            "4/4 [==============================] - 0s 33ms/step - loss: 0.0020 - accuracy: 1.0000\n",
            "Epoch 219/300\n",
            "4/4 [==============================] - 0s 32ms/step - loss: 0.0012 - accuracy: 1.0000\n",
            "Epoch 220/300\n",
            "4/4 [==============================] - 0s 33ms/step - loss: 6.0297e-04 - accuracy: 1.0000\n",
            "Epoch 221/300\n",
            "4/4 [==============================] - 0s 33ms/step - loss: 5.1514e-04 - accuracy: 1.0000\n",
            "Epoch 222/300\n",
            "4/4 [==============================] - 0s 32ms/step - loss: 7.2974e-04 - accuracy: 1.0000\n",
            "Epoch 223/300\n",
            "4/4 [==============================] - 0s 32ms/step - loss: 9.8290e-04 - accuracy: 1.0000\n",
            "Epoch 224/300\n",
            "4/4 [==============================] - 0s 33ms/step - loss: 7.0947e-04 - accuracy: 1.0000\n",
            "Epoch 225/300\n",
            "4/4 [==============================] - 0s 33ms/step - loss: 0.0013 - accuracy: 1.0000\n",
            "Epoch 226/300\n",
            "4/4 [==============================] - 0s 32ms/step - loss: 6.5943e-04 - accuracy: 1.0000\n",
            "Epoch 227/300\n",
            "4/4 [==============================] - 0s 33ms/step - loss: 0.0011 - accuracy: 1.0000\n",
            "Epoch 228/300\n",
            "4/4 [==============================] - 0s 34ms/step - loss: 9.1277e-04 - accuracy: 1.0000\n",
            "Epoch 229/300\n",
            "4/4 [==============================] - 0s 33ms/step - loss: 0.0013 - accuracy: 1.0000\n",
            "Epoch 230/300\n",
            "4/4 [==============================] - 0s 34ms/step - loss: 0.0010 - accuracy: 1.0000\n",
            "Epoch 231/300\n",
            "4/4 [==============================] - 0s 34ms/step - loss: 5.1485e-04 - accuracy: 1.0000\n",
            "Epoch 232/300\n",
            "4/4 [==============================] - 0s 35ms/step - loss: 9.1242e-04 - accuracy: 1.0000\n",
            "Epoch 233/300\n",
            "4/4 [==============================] - 0s 32ms/step - loss: 5.6351e-04 - accuracy: 1.0000\n",
            "Epoch 234/300\n",
            "4/4 [==============================] - 0s 32ms/step - loss: 6.9270e-04 - accuracy: 1.0000\n",
            "Epoch 235/300\n",
            "4/4 [==============================] - 0s 36ms/step - loss: 3.9431e-04 - accuracy: 1.0000\n",
            "Epoch 236/300\n",
            "4/4 [==============================] - 0s 33ms/step - loss: 8.2977e-04 - accuracy: 1.0000\n",
            "Epoch 237/300\n",
            "4/4 [==============================] - 0s 32ms/step - loss: 0.0018 - accuracy: 1.0000\n",
            "Epoch 238/300\n",
            "4/4 [==============================] - 0s 38ms/step - loss: 6.4896e-04 - accuracy: 1.0000\n",
            "Epoch 239/300\n",
            "4/4 [==============================] - 0s 33ms/step - loss: 7.6487e-04 - accuracy: 1.0000\n",
            "Epoch 240/300\n",
            "4/4 [==============================] - 0s 33ms/step - loss: 6.2126e-04 - accuracy: 1.0000\n",
            "Epoch 241/300\n",
            "4/4 [==============================] - 0s 33ms/step - loss: 6.1060e-04 - accuracy: 1.0000\n",
            "Epoch 242/300\n",
            "4/4 [==============================] - 0s 37ms/step - loss: 7.9042e-04 - accuracy: 1.0000\n",
            "Epoch 243/300\n",
            "4/4 [==============================] - 0s 36ms/step - loss: 6.5463e-04 - accuracy: 1.0000\n",
            "Epoch 244/300\n",
            "4/4 [==============================] - 0s 43ms/step - loss: 8.3121e-04 - accuracy: 1.0000\n",
            "Epoch 245/300\n",
            "4/4 [==============================] - 0s 37ms/step - loss: 5.4332e-04 - accuracy: 1.0000\n",
            "Epoch 246/300\n",
            "4/4 [==============================] - 0s 36ms/step - loss: 7.1630e-04 - accuracy: 1.0000\n",
            "Epoch 247/300\n",
            "4/4 [==============================] - 0s 36ms/step - loss: 5.8405e-04 - accuracy: 1.0000\n",
            "Epoch 248/300\n",
            "4/4 [==============================] - 0s 36ms/step - loss: 7.0288e-04 - accuracy: 1.0000\n",
            "Epoch 249/300\n",
            "4/4 [==============================] - 0s 34ms/step - loss: 0.0010 - accuracy: 1.0000\n",
            "Epoch 250/300\n",
            "4/4 [==============================] - 0s 36ms/step - loss: 6.9436e-04 - accuracy: 1.0000\n",
            "Epoch 251/300\n",
            "4/4 [==============================] - 0s 32ms/step - loss: 5.9906e-04 - accuracy: 1.0000\n",
            "Epoch 252/300\n",
            "4/4 [==============================] - 0s 33ms/step - loss: 6.1956e-04 - accuracy: 1.0000\n",
            "Epoch 253/300\n",
            "4/4 [==============================] - 0s 34ms/step - loss: 0.0018 - accuracy: 1.0000\n",
            "Epoch 254/300\n",
            "4/4 [==============================] - 0s 33ms/step - loss: 7.7940e-04 - accuracy: 1.0000\n",
            "Epoch 255/300\n",
            "4/4 [==============================] - 0s 40ms/step - loss: 7.6052e-04 - accuracy: 1.0000\n",
            "Epoch 256/300\n",
            "4/4 [==============================] - 0s 33ms/step - loss: 0.0016 - accuracy: 1.0000\n",
            "Epoch 257/300\n",
            "4/4 [==============================] - 0s 37ms/step - loss: 5.1867e-04 - accuracy: 1.0000\n",
            "Epoch 258/300\n",
            "4/4 [==============================] - 0s 37ms/step - loss: 8.6241e-04 - accuracy: 1.0000\n",
            "Epoch 259/300\n",
            "4/4 [==============================] - 0s 65ms/step - loss: 9.0545e-04 - accuracy: 1.0000\n",
            "Epoch 260/300\n",
            "4/4 [==============================] - 0s 66ms/step - loss: 5.4284e-04 - accuracy: 1.0000\n",
            "Epoch 261/300\n",
            "4/4 [==============================] - 0s 67ms/step - loss: 4.2757e-04 - accuracy: 1.0000\n",
            "Epoch 262/300\n",
            "4/4 [==============================] - 0s 66ms/step - loss: 0.0010 - accuracy: 1.0000\n",
            "Epoch 263/300\n",
            "4/4 [==============================] - 0s 60ms/step - loss: 7.3421e-04 - accuracy: 1.0000\n",
            "Epoch 264/300\n",
            "4/4 [==============================] - 0s 60ms/step - loss: 6.1739e-04 - accuracy: 1.0000\n",
            "Epoch 265/300\n",
            "4/4 [==============================] - 0s 62ms/step - loss: 4.5158e-04 - accuracy: 1.0000\n",
            "Epoch 266/300\n",
            "4/4 [==============================] - 0s 60ms/step - loss: 0.0012 - accuracy: 1.0000\n",
            "Epoch 267/300\n",
            "4/4 [==============================] - 0s 69ms/step - loss: 6.2331e-04 - accuracy: 1.0000\n",
            "Epoch 268/300\n",
            "4/4 [==============================] - 0s 74ms/step - loss: 8.5383e-04 - accuracy: 1.0000\n",
            "Epoch 269/300\n",
            "4/4 [==============================] - 0s 74ms/step - loss: 4.7090e-04 - accuracy: 1.0000\n",
            "Epoch 270/300\n",
            "4/4 [==============================] - 0s 69ms/step - loss: 7.7438e-04 - accuracy: 1.0000\n",
            "Epoch 271/300\n",
            "4/4 [==============================] - 0s 74ms/step - loss: 7.6618e-04 - accuracy: 1.0000\n",
            "Epoch 272/300\n",
            "4/4 [==============================] - 0s 66ms/step - loss: 5.6469e-04 - accuracy: 1.0000\n",
            "Epoch 273/300\n",
            "4/4 [==============================] - 0s 71ms/step - loss: 5.5541e-04 - accuracy: 1.0000\n",
            "Epoch 274/300\n",
            "4/4 [==============================] - 0s 70ms/step - loss: 6.9801e-04 - accuracy: 1.0000\n",
            "Epoch 275/300\n",
            "4/4 [==============================] - 0s 68ms/step - loss: 4.9487e-04 - accuracy: 1.0000\n",
            "Epoch 276/300\n",
            "4/4 [==============================] - 0s 67ms/step - loss: 9.7916e-04 - accuracy: 1.0000\n",
            "Epoch 277/300\n",
            "4/4 [==============================] - 0s 68ms/step - loss: 8.3448e-04 - accuracy: 1.0000\n",
            "Epoch 278/300\n",
            "4/4 [==============================] - 0s 70ms/step - loss: 5.1278e-04 - accuracy: 1.0000\n",
            "Epoch 279/300\n",
            "4/4 [==============================] - 0s 65ms/step - loss: 5.8874e-04 - accuracy: 1.0000\n",
            "Epoch 280/300\n",
            "4/4 [==============================] - 0s 75ms/step - loss: 5.3581e-04 - accuracy: 1.0000\n",
            "Epoch 281/300\n",
            "4/4 [==============================] - 0s 65ms/step - loss: 8.1066e-04 - accuracy: 1.0000\n",
            "Epoch 282/300\n",
            "4/4 [==============================] - 0s 66ms/step - loss: 3.9765e-04 - accuracy: 1.0000\n",
            "Epoch 283/300\n",
            "4/4 [==============================] - 0s 68ms/step - loss: 8.0972e-04 - accuracy: 1.0000\n",
            "Epoch 284/300\n",
            "4/4 [==============================] - 0s 70ms/step - loss: 7.5365e-04 - accuracy: 1.0000\n",
            "Epoch 285/300\n",
            "4/4 [==============================] - 1s 129ms/step - loss: 5.3198e-04 - accuracy: 1.0000\n",
            "Epoch 286/300\n",
            "4/4 [==============================] - 1s 162ms/step - loss: 4.6828e-04 - accuracy: 1.0000\n",
            "Epoch 287/300\n",
            "4/4 [==============================] - 1s 138ms/step - loss: 3.7826e-04 - accuracy: 1.0000\n",
            "Epoch 288/300\n",
            "4/4 [==============================] - 0s 67ms/step - loss: 4.1205e-04 - accuracy: 1.0000\n",
            "Epoch 289/300\n",
            "4/4 [==============================] - 0s 68ms/step - loss: 7.6814e-04 - accuracy: 1.0000\n",
            "Epoch 290/300\n",
            "4/4 [==============================] - 0s 64ms/step - loss: 0.0010 - accuracy: 1.0000\n",
            "Epoch 291/300\n",
            "4/4 [==============================] - 0s 76ms/step - loss: 4.0890e-04 - accuracy: 1.0000\n",
            "Epoch 292/300\n",
            "4/4 [==============================] - 0s 78ms/step - loss: 4.2956e-04 - accuracy: 1.0000\n",
            "Epoch 293/300\n",
            "4/4 [==============================] - 0s 70ms/step - loss: 7.4468e-04 - accuracy: 1.0000\n",
            "Epoch 294/300\n",
            "4/4 [==============================] - 0s 71ms/step - loss: 3.3432e-04 - accuracy: 1.0000\n",
            "Epoch 295/300\n",
            "4/4 [==============================] - 0s 65ms/step - loss: 9.4973e-04 - accuracy: 1.0000\n",
            "Epoch 296/300\n",
            "4/4 [==============================] - 0s 70ms/step - loss: 8.3922e-04 - accuracy: 1.0000\n",
            "Epoch 297/300\n",
            "4/4 [==============================] - 0s 67ms/step - loss: 4.4003e-04 - accuracy: 1.0000\n",
            "Epoch 298/300\n",
            "4/4 [==============================] - 0s 69ms/step - loss: 6.0847e-04 - accuracy: 1.0000\n",
            "Epoch 299/300\n",
            "4/4 [==============================] - 0s 74ms/step - loss: 5.6750e-04 - accuracy: 1.0000\n",
            "Epoch 300/300\n",
            "4/4 [==============================] - 0s 68ms/step - loss: 4.1304e-04 - accuracy: 1.0000\n"
          ]
        }
      ],
      "source": [
        "history = model.fit(training, epochs = 300)"
      ]
    },
    {
      "cell_type": "code",
      "execution_count": 44,
      "metadata": {
        "colab": {
          "base_uri": "https://localhost:8080/",
          "height": 487
        },
        "id": "wDxmG_YO4sKD",
        "outputId": "0afe870e-40c3-40fb-9785-1c0c06378bf6"
      },
      "outputs": [
        {
          "data": {
            "image/png": "[encoded data removed]",
            "text/plain": [
              "<Figure size 1000x500 with 2 Axes>"
            ]
          },
          "metadata": {},
          "output_type": "display_data"
        }
      ],
      "source": [
        "import matplotlib.pyplot as plt\n",
        "\n",
        "fig = plt.figure(figsize=(10, 5))\n",
        "ax = plt.subplot(121)\n",
        "ax.plot(history.epoch, history.history['loss'])\n",
        "ax.set_title('Loss per epoch')\n",
        "ax.set_xlabel('epoch')\n",
        "ax.set_ylabel('loss')\n",
        "ax.grid(c='#ccc')\n",
        "\n",
        "ax = plt.subplot(122)\n",
        "ax.plot(history.epoch, history.history['accuracy'])\n",
        "ax.set_title('Accuracy per epoch')\n",
        "ax.set_xlabel('epoch')\n",
        "ax.set_ylabel('accuracy')\n",
        "ax.grid(c='#ccc')"
      ]
    },
    {
      "cell_type": "code",
      "execution_count": 45,
      "metadata": {
        "colab": {
          "base_uri": "https://localhost:8080/"
        },
        "id": "iVhkWdUc4uQa",
        "outputId": "af273132-7726-43ee-e8bd-4f89718b2da5"
      },
      "outputs": [
        {
          "name": "stdout",
          "output_type": "stream",
          "text": [
            "2/2 [==============================] - 1s 18ms/step - loss: 0.5791 - accuracy: 0.9107\n"
          ]
        }
      ],
      "source": [
        "eval_loss, eval_accuracy = model.evaluate(test)"
      ]
    },
    {
      "cell_type": "code",
      "execution_count": 46,
      "metadata": {
        "colab": {
          "base_uri": "https://localhost:8080/"
        },
        "id": "PlysZshH4u7d",
        "outputId": "acdd4f09-a5dd-49d7-9d4a-e28b75c0f5cd"
      },
      "outputs": [
        {
          "name": "stderr",
          "output_type": "stream",
          "text": [
            "WARNING:tensorflow:5 out of the last 7 calls to <function Model.make_predict_function.<locals>.predict_function at 0x7d9dfe1edab0> triggered tf.function retracing. Tracing is expensive and the excessive number of tracings could be due to (1) creating @tf.function repeatedly in a loop, (2) passing tensors with different shapes, (3) passing Python objects instead of tensors. For (1), please define your @tf.function outside of the loop. For (2), @tf.function has reduce_retracing=True option that can avoid unnecessary retracing. For (3), please refer to https://www.tensorflow.org/guide/function#controlling_retracing and https://www.tensorflow.org/api_docs/python/tf/function for  more details.\n"
          ]
        },
        {
          "name": "stdout",
          "output_type": "stream",
          "text": [
            "2/2 [==============================] - 2s 21ms/step\n",
            "           This girl is messing with me\t : True emoji is 😞 Predicted 🩶\n",
            "                       work is horrible\t : True emoji is 😞 Predicted 😊\n",
            "                   I love taking breaks\t : True emoji is 🩶 Predicted 😞\n",
            "                    you brighten my day\t : True emoji is 😊 Predicted 🩶\n",
            "               will you be my valentine\t : True emoji is 😊 Predicted 🩶\n"
          ]
        }
      ],
      "source": [
        "y_pred = model.predict(test)\n",
        "y_pred = tf.argmax(y_pred, axis = 1)\n",
        "y_test_p = tf.argmax(y_test, axis = 1)\n",
        "wrong = np.array(y_test_p) == np.array(y_pred)\n",
        "wrong = tf.where(wrong == False).numpy().flatten()\n",
        "\n",
        "for w in wrong:\n",
        "    print(f'{X_test[w]:>40}', ': True emoji is', emoji.emojize(emoji_dictionary[np.array(y_test_p)[w]]), 'Predicted', emoji.emojize(emoji_dictionary[y_pred[w].numpy()]))"
      ]
    },
    {
      "cell_type": "markdown",
      "metadata": {},
      "source": [
        "## Test the model"
      ]
    },
    {
      "cell_type": "code",
      "execution_count": 47,
      "metadata": {
        "colab": {
          "base_uri": "https://localhost:8080/"
        },
        "id": "ZxtQH9O24y1o",
        "outputId": "726e0c30-d3df-4592-9911-593696579460"
      },
      "outputs": [
        {
          "name": "stderr",
          "output_type": "stream",
          "text": [
            "WARNING:tensorflow:6 out of the last 9 calls to <function Model.make_predict_function.<locals>.predict_function at 0x7d9dfe1edab0> triggered tf.function retracing. Tracing is expensive and the excessive number of tracings could be due to (1) creating @tf.function repeatedly in a loop, (2) passing tensors with different shapes, (3) passing Python objects instead of tensors. For (1), please define your @tf.function outside of the loop. For (2), @tf.function has reduce_retracing=True option that can avoid unnecessary retracing. For (3), please refer to https://www.tensorflow.org/guide/function#controlling_retracing and https://www.tensorflow.org/api_docs/python/tf/function for  more details.\n"
          ]
        },
        {
          "name": "stdout",
          "output_type": "stream",
          "text": [
            "                             i adore you  -- > Predicted 🩶\n",
            "                              i hate you  -- > Predicted 😞\n",
            "                  i am not feeling happy  -- > Predicted 😞\n",
            "                         i am not hungry  -- > Predicted 😞\n",
            "                      i am scared of you  -- > Predicted 😞\n",
            "                           i want dinner  -- > Predicted 🍴\n",
            "                     he is a good friend  -- > Predicted 😊\n"
          ]
        }
      ],
      "source": [
        "\n",
        "test_sentences = [\n",
        "    'i adore you',\n",
        "    'i hate you',\n",
        "    'i am not feeling happy',\n",
        "    'i am not hungry',\n",
        "    'i am scared of you',\n",
        "    'i want dinner',\n",
        "    'he is a good friend'\n",
        "]\n",
        "\n",
        "y_test_pred = np.argmax(model.predict(vectorize_layer(test_sentences), verbose=0), axis=-1)\n",
        "for i, s in enumerate(test_sentences):\n",
        "      print(f'{s:>40}', ' -- > Predicted', emoji.emojize(emoji_dictionary[y_test_pred[i]]))"
      ]
    },
    {
      "cell_type": "code",
      "execution_count": 47,
      "metadata": {
        "id": "39jEmVseBWjp"
      },
      "outputs": [],
      "source": []
    }
  ],
  "metadata": {
    "accelerator": "GPU",
    "colab": {
      "gpuType": "T4",
      "provenance": []
    },
    "kernelspec": {
      "display_name": "Python 3",
      "name": "python3"
    },
    "language_info": {
      "name": "python"
    }
  },
  "nbformat": 4,
  "nbformat_minor": 0
}
